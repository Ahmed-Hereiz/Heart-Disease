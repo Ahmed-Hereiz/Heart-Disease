{
 "cells": [
  {
   "cell_type": "markdown",
   "id": "3cbf07f3",
   "metadata": {},
   "source": [
    "<h1><center>The Machine Learning Model<center><h1>"
   ]
  },
  {
   "cell_type": "markdown",
   "id": "c9f09a9a",
   "metadata": {},
   "source": [
    "# My Basic Libraries"
   ]
  },
  {
   "cell_type": "code",
   "execution_count": 1,
   "id": "d224147f",
   "metadata": {},
   "outputs": [],
   "source": [
    "import pandas as pd\n",
    "import numpy as np\n",
    "import seaborn as sns\n",
    "import matplotlib.pyplot as plt\n",
    "from colorama import Fore\n",
    "from PIL import Image                     \n",
    "from IPython.display import display"
   ]
  },
  {
   "cell_type": "markdown",
   "id": "05b2dcfa",
   "metadata": {},
   "source": [
    "# Libraries for ML model"
   ]
  },
  {
   "cell_type": "code",
   "execution_count": 2,
   "id": "541744b9",
   "metadata": {},
   "outputs": [],
   "source": [
    "# Libraries for training model\n",
    "\n",
    "from sklearn.model_selection import train_test_split\n",
    "from sklearn import preprocessing,metrics\n",
    "\n",
    "# Libraries for Algorithms\n",
    "\n",
    "from sklearn.linear_model import LogisticRegression\n",
    "from sklearn.svm import SVC\n",
    "from sklearn.neighbors import KNeighborsClassifier\n",
    "from sklearn.tree import DecisionTreeClassifier\n",
    "from sklearn.ensemble import RandomForestClassifier\n",
    "from sklearn.naive_bayes import GaussianNB"
   ]
  },
  {
   "cell_type": "markdown",
   "id": "205bf170",
   "metadata": {},
   "source": [
    "# My Figure Size"
   ]
  },
  {
   "cell_type": "code",
   "execution_count": 3,
   "id": "cb48210a",
   "metadata": {},
   "outputs": [],
   "source": [
    "from matplotlib import rcParams            \n",
    "rcParams['figure.figsize'] = (8,6)  "
   ]
  },
  {
   "cell_type": "markdown",
   "id": "ab928556",
   "metadata": {},
   "source": [
    "# Remove Warning"
   ]
  },
  {
   "cell_type": "code",
   "execution_count": 4,
   "id": "06844b0d",
   "metadata": {},
   "outputs": [],
   "source": [
    "import warnings\n",
    "warnings.simplefilter(\"ignore\")"
   ]
  },
  {
   "cell_type": "markdown",
   "id": "467b9a37",
   "metadata": {},
   "source": [
    "# My Dataset"
   ]
  },
  {
   "cell_type": "code",
   "execution_count": 5,
   "id": "1b11b66e",
   "metadata": {},
   "outputs": [
    {
     "data": {
      "text/html": [
       "<div>\n",
       "<style scoped>\n",
       "    .dataframe tbody tr th:only-of-type {\n",
       "        vertical-align: middle;\n",
       "    }\n",
       "\n",
       "    .dataframe tbody tr th {\n",
       "        vertical-align: top;\n",
       "    }\n",
       "\n",
       "    .dataframe thead th {\n",
       "        text-align: right;\n",
       "    }\n",
       "</style>\n",
       "<table border=\"1\" class=\"dataframe\">\n",
       "  <thead>\n",
       "    <tr style=\"text-align: right;\">\n",
       "      <th></th>\n",
       "      <th>age</th>\n",
       "      <th>sex</th>\n",
       "      <th>chest pain</th>\n",
       "      <th>resting blood pressure</th>\n",
       "      <th>cholesterol in mg/dl</th>\n",
       "      <th>fasting blood sugar</th>\n",
       "      <th>resting ECG results</th>\n",
       "      <th>maximum heart rate achieved</th>\n",
       "      <th>exercise induced angina</th>\n",
       "      <th>oldpeak</th>\n",
       "      <th>slope</th>\n",
       "      <th>number of major vessels</th>\n",
       "      <th>thalassemia</th>\n",
       "      <th>angiographic disease status</th>\n",
       "    </tr>\n",
       "  </thead>\n",
       "  <tbody>\n",
       "    <tr>\n",
       "      <th>0</th>\n",
       "      <td>63</td>\n",
       "      <td>1.0</td>\n",
       "      <td>1.0</td>\n",
       "      <td>145.0</td>\n",
       "      <td>233.0</td>\n",
       "      <td>1.0</td>\n",
       "      <td>2.0</td>\n",
       "      <td>150.0</td>\n",
       "      <td>0.0</td>\n",
       "      <td>2.3</td>\n",
       "      <td>3.0</td>\n",
       "      <td>0.0</td>\n",
       "      <td>6.0</td>\n",
       "      <td>0</td>\n",
       "    </tr>\n",
       "    <tr>\n",
       "      <th>1</th>\n",
       "      <td>67</td>\n",
       "      <td>1.0</td>\n",
       "      <td>4.0</td>\n",
       "      <td>160.0</td>\n",
       "      <td>286.0</td>\n",
       "      <td>0.0</td>\n",
       "      <td>2.0</td>\n",
       "      <td>108.0</td>\n",
       "      <td>1.0</td>\n",
       "      <td>1.5</td>\n",
       "      <td>2.0</td>\n",
       "      <td>3.0</td>\n",
       "      <td>3.0</td>\n",
       "      <td>1</td>\n",
       "    </tr>\n",
       "    <tr>\n",
       "      <th>2</th>\n",
       "      <td>67</td>\n",
       "      <td>1.0</td>\n",
       "      <td>4.0</td>\n",
       "      <td>120.0</td>\n",
       "      <td>229.0</td>\n",
       "      <td>0.0</td>\n",
       "      <td>2.0</td>\n",
       "      <td>129.0</td>\n",
       "      <td>1.0</td>\n",
       "      <td>2.6</td>\n",
       "      <td>2.0</td>\n",
       "      <td>2.0</td>\n",
       "      <td>7.0</td>\n",
       "      <td>1</td>\n",
       "    </tr>\n",
       "    <tr>\n",
       "      <th>3</th>\n",
       "      <td>37</td>\n",
       "      <td>1.0</td>\n",
       "      <td>3.0</td>\n",
       "      <td>130.0</td>\n",
       "      <td>250.0</td>\n",
       "      <td>0.0</td>\n",
       "      <td>0.0</td>\n",
       "      <td>187.0</td>\n",
       "      <td>0.0</td>\n",
       "      <td>3.5</td>\n",
       "      <td>3.0</td>\n",
       "      <td>0.0</td>\n",
       "      <td>3.0</td>\n",
       "      <td>0</td>\n",
       "    </tr>\n",
       "    <tr>\n",
       "      <th>4</th>\n",
       "      <td>41</td>\n",
       "      <td>0.0</td>\n",
       "      <td>2.0</td>\n",
       "      <td>130.0</td>\n",
       "      <td>204.0</td>\n",
       "      <td>0.0</td>\n",
       "      <td>2.0</td>\n",
       "      <td>172.0</td>\n",
       "      <td>0.0</td>\n",
       "      <td>1.4</td>\n",
       "      <td>1.0</td>\n",
       "      <td>0.0</td>\n",
       "      <td>3.0</td>\n",
       "      <td>0</td>\n",
       "    </tr>\n",
       "  </tbody>\n",
       "</table>\n",
       "</div>"
      ],
      "text/plain": [
       "   age  sex  chest pain  resting blood pressure  cholesterol in mg/dl  \\\n",
       "0   63  1.0         1.0                   145.0                 233.0   \n",
       "1   67  1.0         4.0                   160.0                 286.0   \n",
       "2   67  1.0         4.0                   120.0                 229.0   \n",
       "3   37  1.0         3.0                   130.0                 250.0   \n",
       "4   41  0.0         2.0                   130.0                 204.0   \n",
       "\n",
       "   fasting blood sugar  resting ECG results  maximum heart rate achieved  \\\n",
       "0                  1.0                  2.0                        150.0   \n",
       "1                  0.0                  2.0                        108.0   \n",
       "2                  0.0                  2.0                        129.0   \n",
       "3                  0.0                  0.0                        187.0   \n",
       "4                  0.0                  2.0                        172.0   \n",
       "\n",
       "   exercise induced angina  oldpeak  slope  number of major vessels  \\\n",
       "0                      0.0      2.3    3.0                      0.0   \n",
       "1                      1.0      1.5    2.0                      3.0   \n",
       "2                      1.0      2.6    2.0                      2.0   \n",
       "3                      0.0      3.5    3.0                      0.0   \n",
       "4                      0.0      1.4    1.0                      0.0   \n",
       "\n",
       "   thalassemia  angiographic disease status  \n",
       "0          6.0                            0  \n",
       "1          3.0                            1  \n",
       "2          7.0                            1  \n",
       "3          3.0                            0  \n",
       "4          3.0                            0  "
      ]
     },
     "execution_count": 5,
     "metadata": {},
     "output_type": "execute_result"
    }
   ],
   "source": [
    "df = pd.read_csv('Datasets/My_cleaned_dataset.csv',index_col='Unnamed: 0')\n",
    "df.head()"
   ]
  },
  {
   "cell_type": "markdown",
   "id": "b1d18d27",
   "metadata": {},
   "source": [
    "### I will change name of `\"angiographic disease status\"` feature to `\"Target\"` as it is the target value"
   ]
  },
  {
   "cell_type": "code",
   "execution_count": 6,
   "id": "a222499b",
   "metadata": {},
   "outputs": [
    {
     "data": {
      "text/html": [
       "<div>\n",
       "<style scoped>\n",
       "    .dataframe tbody tr th:only-of-type {\n",
       "        vertical-align: middle;\n",
       "    }\n",
       "\n",
       "    .dataframe tbody tr th {\n",
       "        vertical-align: top;\n",
       "    }\n",
       "\n",
       "    .dataframe thead th {\n",
       "        text-align: right;\n",
       "    }\n",
       "</style>\n",
       "<table border=\"1\" class=\"dataframe\">\n",
       "  <thead>\n",
       "    <tr style=\"text-align: right;\">\n",
       "      <th></th>\n",
       "      <th>age</th>\n",
       "      <th>sex</th>\n",
       "      <th>chest pain</th>\n",
       "      <th>resting blood pressure</th>\n",
       "      <th>cholesterol in mg/dl</th>\n",
       "      <th>fasting blood sugar</th>\n",
       "      <th>resting ECG results</th>\n",
       "      <th>maximum heart rate achieved</th>\n",
       "      <th>exercise induced angina</th>\n",
       "      <th>oldpeak</th>\n",
       "      <th>slope</th>\n",
       "      <th>number of major vessels</th>\n",
       "      <th>thalassemia</th>\n",
       "      <th>Target</th>\n",
       "    </tr>\n",
       "  </thead>\n",
       "  <tbody>\n",
       "    <tr>\n",
       "      <th>0</th>\n",
       "      <td>63</td>\n",
       "      <td>1.0</td>\n",
       "      <td>1.0</td>\n",
       "      <td>145.0</td>\n",
       "      <td>233.0</td>\n",
       "      <td>1.0</td>\n",
       "      <td>2.0</td>\n",
       "      <td>150.0</td>\n",
       "      <td>0.0</td>\n",
       "      <td>2.3</td>\n",
       "      <td>3.0</td>\n",
       "      <td>0.0</td>\n",
       "      <td>6.0</td>\n",
       "      <td>0</td>\n",
       "    </tr>\n",
       "    <tr>\n",
       "      <th>1</th>\n",
       "      <td>67</td>\n",
       "      <td>1.0</td>\n",
       "      <td>4.0</td>\n",
       "      <td>160.0</td>\n",
       "      <td>286.0</td>\n",
       "      <td>0.0</td>\n",
       "      <td>2.0</td>\n",
       "      <td>108.0</td>\n",
       "      <td>1.0</td>\n",
       "      <td>1.5</td>\n",
       "      <td>2.0</td>\n",
       "      <td>3.0</td>\n",
       "      <td>3.0</td>\n",
       "      <td>1</td>\n",
       "    </tr>\n",
       "    <tr>\n",
       "      <th>2</th>\n",
       "      <td>67</td>\n",
       "      <td>1.0</td>\n",
       "      <td>4.0</td>\n",
       "      <td>120.0</td>\n",
       "      <td>229.0</td>\n",
       "      <td>0.0</td>\n",
       "      <td>2.0</td>\n",
       "      <td>129.0</td>\n",
       "      <td>1.0</td>\n",
       "      <td>2.6</td>\n",
       "      <td>2.0</td>\n",
       "      <td>2.0</td>\n",
       "      <td>7.0</td>\n",
       "      <td>1</td>\n",
       "    </tr>\n",
       "    <tr>\n",
       "      <th>3</th>\n",
       "      <td>37</td>\n",
       "      <td>1.0</td>\n",
       "      <td>3.0</td>\n",
       "      <td>130.0</td>\n",
       "      <td>250.0</td>\n",
       "      <td>0.0</td>\n",
       "      <td>0.0</td>\n",
       "      <td>187.0</td>\n",
       "      <td>0.0</td>\n",
       "      <td>3.5</td>\n",
       "      <td>3.0</td>\n",
       "      <td>0.0</td>\n",
       "      <td>3.0</td>\n",
       "      <td>0</td>\n",
       "    </tr>\n",
       "    <tr>\n",
       "      <th>4</th>\n",
       "      <td>41</td>\n",
       "      <td>0.0</td>\n",
       "      <td>2.0</td>\n",
       "      <td>130.0</td>\n",
       "      <td>204.0</td>\n",
       "      <td>0.0</td>\n",
       "      <td>2.0</td>\n",
       "      <td>172.0</td>\n",
       "      <td>0.0</td>\n",
       "      <td>1.4</td>\n",
       "      <td>1.0</td>\n",
       "      <td>0.0</td>\n",
       "      <td>3.0</td>\n",
       "      <td>0</td>\n",
       "    </tr>\n",
       "  </tbody>\n",
       "</table>\n",
       "</div>"
      ],
      "text/plain": [
       "   age  sex  chest pain  resting blood pressure  cholesterol in mg/dl  \\\n",
       "0   63  1.0         1.0                   145.0                 233.0   \n",
       "1   67  1.0         4.0                   160.0                 286.0   \n",
       "2   67  1.0         4.0                   120.0                 229.0   \n",
       "3   37  1.0         3.0                   130.0                 250.0   \n",
       "4   41  0.0         2.0                   130.0                 204.0   \n",
       "\n",
       "   fasting blood sugar  resting ECG results  maximum heart rate achieved  \\\n",
       "0                  1.0                  2.0                        150.0   \n",
       "1                  0.0                  2.0                        108.0   \n",
       "2                  0.0                  2.0                        129.0   \n",
       "3                  0.0                  0.0                        187.0   \n",
       "4                  0.0                  2.0                        172.0   \n",
       "\n",
       "   exercise induced angina  oldpeak  slope  number of major vessels  \\\n",
       "0                      0.0      2.3    3.0                      0.0   \n",
       "1                      1.0      1.5    2.0                      3.0   \n",
       "2                      1.0      2.6    2.0                      2.0   \n",
       "3                      0.0      3.5    3.0                      0.0   \n",
       "4                      0.0      1.4    1.0                      0.0   \n",
       "\n",
       "   thalassemia  Target  \n",
       "0          6.0       0  \n",
       "1          3.0       1  \n",
       "2          7.0       1  \n",
       "3          3.0       0  \n",
       "4          3.0       0  "
      ]
     },
     "execution_count": 6,
     "metadata": {},
     "output_type": "execute_result"
    }
   ],
   "source": [
    "df.rename({'angiographic disease status':'Target'},axis='columns',inplace=True)\n",
    "df.head()"
   ]
  },
  {
   "cell_type": "markdown",
   "id": "4b5a37f4",
   "metadata": {},
   "source": [
    "## Now I want to divide my data into 3 sets\n",
    "> - Training Set :  (70 %) <br><br>\n",
    "> - Cross Validation Set :  (15 %) <br><br>\n",
    "> - Testing Set :  (15 %)"
   ]
  },
  {
   "cell_type": "markdown",
   "id": "3b43b173",
   "metadata": {},
   "source": [
    "## I will use 6 algorithms on my data to see which algorithm will give higher accuracy to make it as my model algotithm"
   ]
  },
  {
   "cell_type": "markdown",
   "id": "114f7192",
   "metadata": {},
   "source": [
    "## My Algorithms :\n",
    "> - Logistic Regression <br><br>\n",
    "> - Decision Tree <br><br>\n",
    "> - Random Forest <br><br>\n",
    "> - Support Vector Machine <br><br>\n",
    "> - KNN <br><br>\n",
    "> - Naive Bayes"
   ]
  },
  {
   "cell_type": "code",
   "execution_count": 7,
   "id": "25322e32",
   "metadata": {},
   "outputs": [
    {
     "data": {
      "text/plain": [
       "(303, 14)"
      ]
     },
     "execution_count": 7,
     "metadata": {},
     "output_type": "execute_result"
    }
   ],
   "source": [
    "df.shape"
   ]
  },
  {
   "cell_type": "code",
   "execution_count": 8,
   "id": "a081a02b",
   "metadata": {},
   "outputs": [
    {
     "name": "stdout",
     "output_type": "stream",
     "text": [
      "\u001b[94mNumber of rows which will be used for Training and validation :  272\n",
      "\u001b[34mNumber of rows which will be used for Testing :  31\n"
     ]
    }
   ],
   "source": [
    "print(Fore.LIGHTBLUE_EX + 'Number of rows which will be used for Training and validation : ',int(0.9*303))\n",
    "print(Fore.BLUE + 'Number of rows which will be used for Testing : ',int(303-int(0.9*303)))"
   ]
  },
  {
   "cell_type": "code",
   "execution_count": 9,
   "id": "20bd49ad",
   "metadata": {},
   "outputs": [],
   "source": [
    "data_for_trainig_and_validation = df.loc[0:int(0.9*303)]\n",
    "data_for_testing = df.loc[int(0.9*303)+1::]\n",
    "\n",
    "x_result = data_for_testing.drop(['Target'],axis=1)\n",
    "y_result = data_for_testing['Target']"
   ]
  },
  {
   "cell_type": "markdown",
   "id": "cb466408",
   "metadata": {},
   "source": [
    "## Model Training"
   ]
  },
  {
   "cell_type": "code",
   "execution_count": 10,
   "id": "16918515",
   "metadata": {},
   "outputs": [],
   "source": [
    "X = data_for_trainig_and_validation.drop(['Target'],axis=1)\n",
    "Y = data_for_trainig_and_validation['Target']\n",
    "\n",
    "X_train, X_test, y_train, y_test = train_test_split(X, Y, test_size=int((10*100)/90)/100, random_state=42 , stratify=Y)"
   ]
  },
  {
   "cell_type": "markdown",
   "id": "805dd32a",
   "metadata": {},
   "source": [
    "## Now I will create a model pipeline "
   ]
  },
  {
   "cell_type": "code",
   "execution_count": 11,
   "id": "e42a3874",
   "metadata": {},
   "outputs": [],
   "source": [
    "pipeline = []\n",
    "\n",
    "pipeline.append(LogisticRegression(solver='liblinear'))\n",
    "pipeline.append(SVC())\n",
    "pipeline.append(KNeighborsClassifier())\n",
    "pipeline.append(DecisionTreeClassifier())\n",
    "pipeline.append(RandomForestClassifier())\n",
    "pipeline.append(GaussianNB())"
   ]
  },
  {
   "cell_type": "markdown",
   "id": "1467be5e",
   "metadata": {},
   "source": [
    "# Here I will Make a loop to show model accuracies "
   ]
  },
  {
   "cell_type": "code",
   "execution_count": 12,
   "id": "8f71ad49",
   "metadata": {},
   "outputs": [
    {
     "data": {
      "text/html": [
       "<div>\n",
       "<style scoped>\n",
       "    .dataframe tbody tr th:only-of-type {\n",
       "        vertical-align: middle;\n",
       "    }\n",
       "\n",
       "    .dataframe tbody tr th {\n",
       "        vertical-align: top;\n",
       "    }\n",
       "\n",
       "    .dataframe thead th {\n",
       "        text-align: right;\n",
       "    }\n",
       "</style>\n",
       "<table border=\"1\" class=\"dataframe\">\n",
       "  <thead>\n",
       "    <tr style=\"text-align: right;\">\n",
       "      <th></th>\n",
       "      <th>Model name</th>\n",
       "      <th>Cross Validation accuracy</th>\n",
       "      <th>Testing accuracy</th>\n",
       "    </tr>\n",
       "  </thead>\n",
       "  <tbody>\n",
       "    <tr>\n",
       "      <th>0</th>\n",
       "      <td>Logistic Regression</td>\n",
       "      <td>0.709677</td>\n",
       "      <td>0.800000</td>\n",
       "    </tr>\n",
       "    <tr>\n",
       "      <th>1</th>\n",
       "      <td>Support Vector Machine</td>\n",
       "      <td>0.709677</td>\n",
       "      <td>0.566667</td>\n",
       "    </tr>\n",
       "    <tr>\n",
       "      <th>2</th>\n",
       "      <td>KNN</td>\n",
       "      <td>0.709677</td>\n",
       "      <td>0.700000</td>\n",
       "    </tr>\n",
       "    <tr>\n",
       "      <th>3</th>\n",
       "      <td>Decision Tree</td>\n",
       "      <td>0.677419</td>\n",
       "      <td>0.666667</td>\n",
       "    </tr>\n",
       "    <tr>\n",
       "      <th>4</th>\n",
       "      <td>Random Forest</td>\n",
       "      <td>0.741935</td>\n",
       "      <td>0.766667</td>\n",
       "    </tr>\n",
       "    <tr>\n",
       "      <th>5</th>\n",
       "      <td>Naive Bayes</td>\n",
       "      <td>0.709677</td>\n",
       "      <td>0.833333</td>\n",
       "    </tr>\n",
       "  </tbody>\n",
       "</table>\n",
       "</div>"
      ],
      "text/plain": [
       "               Model name  Cross Validation accuracy  Testing accuracy\n",
       "0     Logistic Regression                   0.709677          0.800000\n",
       "1  Support Vector Machine                   0.709677          0.566667\n",
       "2                     KNN                   0.709677          0.700000\n",
       "3           Decision Tree                   0.677419          0.666667\n",
       "4           Random Forest                   0.741935          0.766667\n",
       "5             Naive Bayes                   0.709677          0.833333"
      ]
     },
     "execution_count": 12,
     "metadata": {},
     "output_type": "execute_result"
    }
   ],
   "source": [
    "my_models = ['Logistic Regression','Support Vector Machine','KNN','Decision Tree','Random Forest','Naive Bayes']\n",
    "\n",
    "validation_accuracy_list = []\n",
    "testing_accuracy_list = []\n",
    "\n",
    "\n",
    "for model in pipeline:\n",
    "    model.fit(X_train,y_train)\n",
    "    y_out_cv = model.predict(X_test)\n",
    "    validation_accuracy_list.append(metrics.accuracy_score(y_test,y_out_cv))\n",
    "\n",
    "for model in pipeline:\n",
    "    y_out_testing = model.predict(x_result)\n",
    "    testing_accuracy_list.append(metrics.accuracy_score(y_result,y_out_testing))\n",
    "    \n",
    "    \n",
    "my_models = pd.DataFrame({\n",
    "    'Model name' : my_models,\n",
    "    'Cross Validation accuracy' : validation_accuracy_list,\n",
    "    'Testing accuracy' : testing_accuracy_list\n",
    "})\n",
    "\n",
    "\n",
    "my_models"
   ]
  },
  {
   "cell_type": "code",
   "execution_count": 13,
   "id": "fc3d8f94",
   "metadata": {},
   "outputs": [
    {
     "data": {
      "image/png": "[encoded data removed]",
      "text/plain": [
       "<Figure size 576x432 with 2 Axes>"
      ]
     },
     "metadata": {
      "needs_background": "light"
     },
     "output_type": "display_data"
    }
   ],
   "source": [
    "sns.heatmap(my_models[['Cross Validation accuracy','Testing accuracy']],cmap='Blues',\n",
    "            annot=True,linewidths=10,yticklabels=my_models['Model name'])\n",
    "plt.show()"
   ]
  },
  {
   "cell_type": "markdown",
   "id": "cecdbb09",
   "metadata": {},
   "source": [
    "# Now I noticed that best model to train this data on is Naive Bayes"
   ]
  },
  {
   "cell_type": "markdown",
   "id": "a5059fd6",
   "metadata": {},
   "source": [
    "# <br><br> The END"
   ]
  }
 ],
 "metadata": {
  "kernelspec": {
   "display_name": "Python 3 (ipykernel)",
   "language": "python",
   "name": "python3"
  },
  "language_info": {
   "codemirror_mode": {
    "name": "ipython",
    "version": 3
   },
   "file_extension": ".py",
   "mimetype": "text/x-python",
   "name": "python",
   "nbconvert_exporter": "python",
   "pygments_lexer": "ipython3",
   "version": "3.9.12"
  }
 },
 "nbformat": 4,
 "nbformat_minor": 5
}
